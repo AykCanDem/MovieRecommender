{
 "cells": [
  {
   "cell_type": "code",
   "execution_count": 1,
   "id": "5ce2a012-cdad-48ad-a76d-ea0347e7b694",
   "metadata": {},
   "outputs": [],
   "source": [
    "from pyspark.mllib.recommendation import Rating\n",
    "from pyspark.ml.recommendation import ALS\n",
    "from pyspark.ml.evaluation import RegressionEvaluator\n",
    "\n",
    "from pyspark.sql import SparkSession\n",
    "import pandas as pd\n",
    "\n",
    "#build spark session\n",
    "spark = SparkSession.builder.getOrCreate()"
   ]
  },
  {
   "cell_type": "code",
   "execution_count": 2,
   "id": "dca2fb83-d050-4d19-9fa0-a5985af8d541",
   "metadata": {},
   "outputs": [],
   "source": [
    "# get movie information\n",
    "\n",
    "# movie titles might include characters like ' \" ,\n",
    "\n",
    "movieId = []\n",
    "title = []\n",
    "genres = []\n",
    "\n",
    "counter = 0\n",
    "with open('./ml-25m/movies.csv', 'r') as lines:\n",
    "    header = lines.readline().split(',')\n",
    "    for line in lines:\n",
    "        counter +=1\n",
    "        indexFirstComma = line.find(',')\n",
    "        indexLastComma = line.rindex(',')\n",
    "        m = line[:indexFirstComma]\n",
    "        t = line[indexFirstComma+1:indexLastComma]\n",
    "        g = line[indexLastComma+1:]\n",
    "        \n",
    "        \n",
    "        movieId.append(m)\n",
    "        title.append(t)\n",
    "        genres.append(g.strip('\\n'))"
   ]
  },
  {
   "cell_type": "code",
   "execution_count": 3,
   "id": "404e6060-849e-468e-b202-7c9ad3550ed6",
   "metadata": {},
   "outputs": [],
   "source": [
    "header[-1] = header[-1].strip('\\n')"
   ]
  },
  {
   "cell_type": "code",
   "execution_count": 4,
   "id": "3cdcdb2d-b86b-46ba-8c56-d9a7b6528d14",
   "metadata": {},
   "outputs": [],
   "source": [
    "movies_pdf = pd.DataFrame(list(zip(movieId, title, genres)), columns= header)"
   ]
  },
  {
   "cell_type": "code",
   "execution_count": 5,
   "id": "6346efcf-9778-4fc0-a9d0-f47d80237bdd",
   "metadata": {},
   "outputs": [
    {
     "data": {
      "text/html": [
       "<div>\n",
       "<style scoped>\n",
       "    .dataframe tbody tr th:only-of-type {\n",
       "        vertical-align: middle;\n",
       "    }\n",
       "\n",
       "    .dataframe tbody tr th {\n",
       "        vertical-align: top;\n",
       "    }\n",
       "\n",
       "    .dataframe thead th {\n",
       "        text-align: right;\n",
       "    }\n",
       "</style>\n",
       "<table border=\"1\" class=\"dataframe\">\n",
       "  <thead>\n",
       "    <tr style=\"text-align: right;\">\n",
       "      <th></th>\n",
       "      <th>movieId</th>\n",
       "      <th>title</th>\n",
       "      <th>genres</th>\n",
       "    </tr>\n",
       "  </thead>\n",
       "  <tbody>\n",
       "    <tr>\n",
       "      <th>0</th>\n",
       "      <td>1</td>\n",
       "      <td>Toy Story (1995)</td>\n",
       "      <td>Adventure|Animation|Children|Comedy|Fantasy</td>\n",
       "    </tr>\n",
       "    <tr>\n",
       "      <th>1</th>\n",
       "      <td>2</td>\n",
       "      <td>Jumanji (1995)</td>\n",
       "      <td>Adventure|Children|Fantasy</td>\n",
       "    </tr>\n",
       "    <tr>\n",
       "      <th>2</th>\n",
       "      <td>3</td>\n",
       "      <td>Grumpier Old Men (1995)</td>\n",
       "      <td>Comedy|Romance</td>\n",
       "    </tr>\n",
       "    <tr>\n",
       "      <th>3</th>\n",
       "      <td>4</td>\n",
       "      <td>Waiting to Exhale (1995)</td>\n",
       "      <td>Comedy|Drama|Romance</td>\n",
       "    </tr>\n",
       "    <tr>\n",
       "      <th>4</th>\n",
       "      <td>5</td>\n",
       "      <td>Father of the Bride Part II (1995)</td>\n",
       "      <td>Comedy</td>\n",
       "    </tr>\n",
       "    <tr>\n",
       "      <th>5</th>\n",
       "      <td>6</td>\n",
       "      <td>Heat (1995)</td>\n",
       "      <td>Action|Crime|Thriller</td>\n",
       "    </tr>\n",
       "    <tr>\n",
       "      <th>6</th>\n",
       "      <td>7</td>\n",
       "      <td>Sabrina (1995)</td>\n",
       "      <td>Comedy|Romance</td>\n",
       "    </tr>\n",
       "    <tr>\n",
       "      <th>7</th>\n",
       "      <td>8</td>\n",
       "      <td>Tom and Huck (1995)</td>\n",
       "      <td>Adventure|Children</td>\n",
       "    </tr>\n",
       "    <tr>\n",
       "      <th>8</th>\n",
       "      <td>9</td>\n",
       "      <td>Sudden Death (1995)</td>\n",
       "      <td>Action</td>\n",
       "    </tr>\n",
       "    <tr>\n",
       "      <th>9</th>\n",
       "      <td>10</td>\n",
       "      <td>GoldenEye (1995)</td>\n",
       "      <td>Action|Adventure|Thriller</td>\n",
       "    </tr>\n",
       "  </tbody>\n",
       "</table>\n",
       "</div>"
      ],
      "text/plain": [
       "  movieId                               title  \\\n",
       "0       1                    Toy Story (1995)   \n",
       "1       2                      Jumanji (1995)   \n",
       "2       3             Grumpier Old Men (1995)   \n",
       "3       4            Waiting to Exhale (1995)   \n",
       "4       5  Father of the Bride Part II (1995)   \n",
       "5       6                         Heat (1995)   \n",
       "6       7                      Sabrina (1995)   \n",
       "7       8                 Tom and Huck (1995)   \n",
       "8       9                 Sudden Death (1995)   \n",
       "9      10                    GoldenEye (1995)   \n",
       "\n",
       "                                        genres  \n",
       "0  Adventure|Animation|Children|Comedy|Fantasy  \n",
       "1                   Adventure|Children|Fantasy  \n",
       "2                               Comedy|Romance  \n",
       "3                         Comedy|Drama|Romance  \n",
       "4                                       Comedy  \n",
       "5                        Action|Crime|Thriller  \n",
       "6                               Comedy|Romance  \n",
       "7                           Adventure|Children  \n",
       "8                                       Action  \n",
       "9                    Action|Adventure|Thriller  "
      ]
     },
     "execution_count": 5,
     "metadata": {},
     "output_type": "execute_result"
    }
   ],
   "source": [
    "movies_pdf.head(10)"
   ]
  },
  {
   "cell_type": "code",
   "execution_count": 6,
   "id": "6474eb05-3372-4713-aa5b-00d44d02e6c1",
   "metadata": {},
   "outputs": [],
   "source": [
    "# get ratings\n",
    "\n",
    "ratings = spark.read.load('./ml-25m/ratings.csv', format='csv', sep=',', header=\"true\", inferSchema=\"true\")"
   ]
  },
  {
   "cell_type": "code",
   "execution_count": 7,
   "id": "a22a24a2-216f-455e-9ec5-483fd97fc236",
   "metadata": {},
   "outputs": [],
   "source": [
    "# drop timestamp column\n",
    "ratings = ratings.drop('timestamp')"
   ]
  },
  {
   "cell_type": "code",
   "execution_count": 8,
   "id": "9f714390-9b48-4f0c-8837-85db748224be",
   "metadata": {},
   "outputs": [
    {
     "name": "stdout",
     "output_type": "stream",
     "text": [
      "+------+-------+------+\n",
      "|userId|movieId|rating|\n",
      "+------+-------+------+\n",
      "|     1|    296|   5.0|\n",
      "|     1|    306|   3.5|\n",
      "|     1|    307|   5.0|\n",
      "|     1|    665|   5.0|\n",
      "|     1|    899|   3.5|\n",
      "|     1|   1088|   4.0|\n",
      "|     1|   1175|   3.5|\n",
      "|     1|   1217|   3.5|\n",
      "|     1|   1237|   5.0|\n",
      "|     1|   1250|   4.0|\n",
      "|     1|   1260|   3.5|\n",
      "|     1|   1653|   4.0|\n",
      "|     1|   2011|   2.5|\n",
      "|     1|   2012|   2.5|\n",
      "|     1|   2068|   2.5|\n",
      "|     1|   2161|   3.5|\n",
      "|     1|   2351|   4.5|\n",
      "|     1|   2573|   4.0|\n",
      "|     1|   2632|   5.0|\n",
      "|     1|   2692|   5.0|\n",
      "+------+-------+------+\n",
      "only showing top 20 rows\n",
      "\n"
     ]
    }
   ],
   "source": [
    "ratings.show()"
   ]
  },
  {
   "cell_type": "code",
   "execution_count": 9,
   "id": "dc670a5a-f4e4-4e7c-a18d-843d7f28c6ea",
   "metadata": {},
   "outputs": [
    {
     "name": "stdout",
     "output_type": "stream",
     "text": [
      "root\n",
      " |-- userId: integer (nullable = true)\n",
      " |-- movieId: integer (nullable = true)\n",
      " |-- rating: double (nullable = true)\n",
      "\n"
     ]
    }
   ],
   "source": [
    "ratings.printSchema()"
   ]
  },
  {
   "cell_type": "code",
   "execution_count": 10,
   "id": "679a8929-7907-4e1a-9a3d-3a77c36cb7bb",
   "metadata": {},
   "outputs": [
    {
     "data": {
      "text/plain": [
       "25000095"
      ]
     },
     "execution_count": 10,
     "metadata": {},
     "output_type": "execute_result"
    }
   ],
   "source": [
    "ratings.count()"
   ]
  },
  {
   "cell_type": "code",
   "execution_count": 11,
   "id": "985ab97d-013c-4f93-8087-171ecd7331ac",
   "metadata": {},
   "outputs": [],
   "source": [
    "# while working on local computer execute this line\n",
    "# since the dataset is too large it might not fit into memory\n",
    "(ratings, drop) = ratings.randomSplit([0.5, 0.5])"
   ]
  },
  {
   "cell_type": "code",
   "execution_count": 12,
   "id": "2c003a70-6231-4ee0-ac91-87241bbf3002",
   "metadata": {},
   "outputs": [],
   "source": [
    "(training, test) = ratings.randomSplit([0.8, 0.2])"
   ]
  },
  {
   "cell_type": "code",
   "execution_count": 13,
   "id": "634a7ac9-4b79-436d-9942-cff9e104b440",
   "metadata": {},
   "outputs": [
    {
     "name": "stdout",
     "output_type": "stream",
     "text": [
      "Training set:  9999085\n",
      "Test set:  2500022\n"
     ]
    }
   ],
   "source": [
    "print('Training set: ', training.count())\n",
    "print('Test set: ', test.count())"
   ]
  },
  {
   "cell_type": "markdown",
   "id": "2cd1aeb6-b237-4a62-b3b6-80b82eca8d8e",
   "metadata": {},
   "source": [
    "### Build/Run Model"
   ]
  },
  {
   "cell_type": "code",
   "execution_count": 14,
   "id": "15766e95-96fe-474a-bfe3-c18d5352fdae",
   "metadata": {},
   "outputs": [],
   "source": [
    "als = ALS(maxIter=5, regParam=0.01, userCol=\"userId\", itemCol=\"movieId\", ratingCol=\"rating\",coldStartStrategy=\"drop\", implicitPrefs=False)"
   ]
  },
  {
   "cell_type": "code",
   "execution_count": 15,
   "id": "df65c5af-b992-4b74-8c81-8da782e630c3",
   "metadata": {},
   "outputs": [],
   "source": [
    "model = als.fit(training)"
   ]
  },
  {
   "cell_type": "code",
   "execution_count": 16,
   "id": "587b48dc-9c83-430e-9e51-81796f5cd0c1",
   "metadata": {},
   "outputs": [],
   "source": [
    "predictions = model.transform(test)"
   ]
  },
  {
   "cell_type": "code",
   "execution_count": 17,
   "id": "577dd234-8c10-4a4f-acf9-6158cba97a3c",
   "metadata": {},
   "outputs": [
    {
     "name": "stdout",
     "output_type": "stream",
     "text": [
      "+------+-------+------+----------+\n",
      "|userId|movieId|rating|prediction|\n",
      "+------+-------+------+----------+\n",
      "|124207|    148|   3.0| 1.4777418|\n",
      "|  8249|    148|   3.0| 2.8008215|\n",
      "| 33354|    148|   3.0| 2.9119759|\n",
      "|  5055|    148|   3.0|  2.913327|\n",
      "| 38679|    148|   3.0| 2.6689863|\n",
      "| 64112|    148|   3.0| 3.5638697|\n",
      "|105987|    148|   3.0|  2.344711|\n",
      "| 73827|    148|   4.0|  4.564262|\n",
      "| 49403|    148|   2.0|  2.291417|\n",
      "| 75209|    148|   2.0|  2.050297|\n",
      "| 73977|    148|   2.0| 2.5904522|\n",
      "|115095|    148|   4.0|  2.963902|\n",
      "| 58615|    148|   3.0| 2.4747012|\n",
      "|110863|    148|   3.0| 4.3533397|\n",
      "|105793|    148|   2.0| 2.9515069|\n",
      "| 60999|    148|   4.0|  2.105264|\n",
      "| 64415|    148|   3.0|  2.997541|\n",
      "|137835|    148|   4.0| 3.3728433|\n",
      "|100318|    148|   4.0| 3.1876101|\n",
      "| 68169|    148|   2.0| 2.8420095|\n",
      "+------+-------+------+----------+\n",
      "only showing top 20 rows\n",
      "\n"
     ]
    }
   ],
   "source": [
    "predictions.show()"
   ]
  },
  {
   "cell_type": "markdown",
   "id": "cf6be866-e3cc-4ce7-884c-0d8b139af8a4",
   "metadata": {},
   "source": [
    "### Evaluate Model"
   ]
  },
  {
   "cell_type": "code",
   "execution_count": 18,
   "id": "f87bb256-82a2-42ef-ad45-e581b8a9e6a6",
   "metadata": {},
   "outputs": [
    {
     "name": "stdout",
     "output_type": "stream",
     "text": [
      "Root mean squared error: 0.863797565625846\n"
     ]
    }
   ],
   "source": [
    "evaluator = RegressionEvaluator(metricName='rmse', labelCol='rating', predictionCol='prediction')\n",
    "rmse = evaluator.evaluate(predictions)\n",
    "print('Root mean squared error:', rmse)"
   ]
  },
  {
   "cell_type": "markdown",
   "id": "a1d9f8fe-ca2f-4a94-870d-877f563677b8",
   "metadata": {},
   "source": [
    "### Save/Load Model"
   ]
  },
  {
   "cell_type": "code",
   "execution_count": 19,
   "id": "3c0ef40d-68db-4a48-b91a-c7f44d12032e",
   "metadata": {},
   "outputs": [],
   "source": [
    "#save the model\n",
    "model.write().overwrite().save('recommender_model')\n",
    "\n",
    "#load the saved model\n",
    "# model = ALSModel.load('recommender_model')"
   ]
  },
  {
   "cell_type": "markdown",
   "id": "b8e2ad86-a871-480d-8f52-fd7ad2a559d4",
   "metadata": {},
   "source": [
    "### Testing\n",
    "\n",
    "- Combine predictions with movie names and genres to evaluate the model"
   ]
  },
  {
   "cell_type": "code",
   "execution_count": 20,
   "id": "b55337ad-f60c-45ec-9047-b3a794ffb3fe",
   "metadata": {},
   "outputs": [],
   "source": [
    "# create Spark DataFrame from Pandas DataFrame\n",
    "moviesDF = spark.createDataFrame(movies_pdf)"
   ]
  },
  {
   "cell_type": "code",
   "execution_count": 21,
   "id": "4349331b-4ec7-4f16-ab9c-c8a9b53c2829",
   "metadata": {},
   "outputs": [],
   "source": [
    "# create tables for SQL\n",
    "moviesDF.createOrReplaceTempView('movies')\n",
    "predictions.createOrReplaceTempView('predictions')"
   ]
  },
  {
   "cell_type": "code",
   "execution_count": 22,
   "id": "ae95dc38-4abb-4065-a648-10a9708c6d07",
   "metadata": {},
   "outputs": [
    {
     "name": "stdout",
     "output_type": "stream",
     "text": [
      "+------+-------+------+----------+-------+-----------------------------------------------------+-------------------------------------------+\n",
      "|userId|movieId|rating|prediction|movieId|title                                                |genres                                     |\n",
      "+------+-------+------+----------+-------+-----------------------------------------------------+-------------------------------------------+\n",
      "|100   |647    |3.0   |3.2151697 |647    |Courage Under Fire (1996)                            |Action|Crime|Drama|War                     |\n",
      "|100   |766    |3.0   |4.869132  |766    |I Shot Andy Warhol (1996)                            |Drama                                      |\n",
      "|100   |648    |3.0   |2.8397493 |648    |Mission: Impossible (1996)                           |Action|Adventure|Mystery|Thriller          |\n",
      "|100   |1393   |4.0   |3.687466  |1393   |Jerry Maguire (1996)                                 |Drama|Romance                              |\n",
      "|100   |1391   |3.0   |3.4170415 |1391   |Mars Attacks! (1996)                                 |Action|Comedy|Sci-Fi                       |\n",
      "|100   |832    |3.0   |3.6590161 |832    |Ransom (1996)                                        |Crime|Thriller                             |\n",
      "|100   |26     |4.0   |3.8321187 |26     |Othello (1995)                                       |Drama                                      |\n",
      "|300   |106487 |5.0   |3.3690097 |106487 |The Hunger Games: Catching Fire (2013)               |Action|Adventure|Sci-Fi|IMAX               |\n",
      "|300   |101864 |4.0   |4.298628  |101864 |Oblivion (2013)                                      |Action|Adventure|Sci-Fi|IMAX               |\n",
      "|300   |68157  |4.5   |3.3906443 |68157  |Inglourious Basterds (2009)                          |Action|Drama|War                           |\n",
      "|300   |5445   |4.0   |3.660417  |5445   |Minority Report (2002)                               |Action|Crime|Mystery|Sci-Fi|Thriller       |\n",
      "|300   |1196   |5.0   |3.3680696 |1196   |Star Wars: Episode V - The Empire Strikes Back (1980)|Action|Adventure|Sci-Fi                    |\n",
      "|300   |88125  |3.0   |3.5118294 |88125  |Harry Potter and the Deathly Hallows: Part 2 (2011)  |Action|Adventure|Drama|Fantasy|Mystery|IMAX|\n",
      "|300   |40815  |3.5   |3.809426  |40815  |Harry Potter and the Goblet of Fire (2005)           |Adventure|Fantasy|Thriller|IMAX            |\n",
      "|300   |586    |5.0   |2.8438404 |586    |Home Alone (1990)                                    |Children|Comedy                            |\n",
      "|300   |122892 |4.0   |4.0411677 |122892 |Avengers: Age of Ultron (2015)                       |Action|Adventure|Sci-Fi                    |\n",
      "+------+-------+------+----------+-------+-----------------------------------------------------+-------------------------------------------+\n",
      "\n"
     ]
    }
   ],
   "source": [
    "spark.sql(\n",
    "    'SELECT *\\\n",
    "    FROM predictions AS p INNER JOIN movies AS m ON p.movieId = m.movieId \\\n",
    "    WHERE p.userId IN (100,200,300)\\\n",
    "    ORDER BY 1' ).show(100, truncate=False)"
   ]
  },
  {
   "cell_type": "markdown",
   "id": "29b81df7-7fae-4dfa-ad26-1be9a53e98a8",
   "metadata": {},
   "source": [
    "- Recommend movies for a specific user"
   ]
  },
  {
   "cell_type": "code",
   "execution_count": 23,
   "id": "e86309ca-b418-4921-984f-a7680467db5d",
   "metadata": {},
   "outputs": [],
   "source": [
    "user_subset = ratings.where(ratings.userId == 300)\n",
    "userRecs = model.recommendForUserSubset(user_subset, 3)"
   ]
  },
  {
   "cell_type": "code",
   "execution_count": 24,
   "id": "7ea3ba99-788f-4d3e-b4a8-88a20d2593b1",
   "metadata": {},
   "outputs": [
    {
     "name": "stdout",
     "output_type": "stream",
     "text": [
      "+------+---------------------------------------------------------------+\n",
      "|userId|recommendations                                                |\n",
      "+------+---------------------------------------------------------------+\n",
      "|300   |[{182759, 15.541958}, {175169, 14.156495}, {148857, 13.793576}]|\n",
      "+------+---------------------------------------------------------------+\n",
      "\n"
     ]
    }
   ],
   "source": [
    "userRecs.show(truncate=False)"
   ]
  },
  {
   "cell_type": "code",
   "execution_count": 25,
   "id": "54d1ffba-b795-43f4-b889-e94bd0833e37",
   "metadata": {},
   "outputs": [
    {
     "data": {
      "text/html": [
       "<div>\n",
       "<style scoped>\n",
       "    .dataframe tbody tr th:only-of-type {\n",
       "        vertical-align: middle;\n",
       "    }\n",
       "\n",
       "    .dataframe tbody tr th {\n",
       "        vertical-align: top;\n",
       "    }\n",
       "\n",
       "    .dataframe thead th {\n",
       "        text-align: right;\n",
       "    }\n",
       "</style>\n",
       "<table border=\"1\" class=\"dataframe\">\n",
       "  <thead>\n",
       "    <tr style=\"text-align: right;\">\n",
       "      <th></th>\n",
       "      <th>movieId</th>\n",
       "      <th>title</th>\n",
       "      <th>genres</th>\n",
       "    </tr>\n",
       "  </thead>\n",
       "  <tbody>\n",
       "    <tr>\n",
       "      <th>17344</th>\n",
       "      <td>90963</td>\n",
       "      <td>\"Last Mountain, The (2011)\"</td>\n",
       "      <td>Documentary</td>\n",
       "    </tr>\n",
       "    <tr>\n",
       "      <th>37687</th>\n",
       "      <td>153184</td>\n",
       "      <td>Vergeef me</td>\n",
       "      <td>(no genres listed)</td>\n",
       "    </tr>\n",
       "    <tr>\n",
       "      <th>46113</th>\n",
       "      <td>171781</td>\n",
       "      <td>Tank 432 (2015)</td>\n",
       "      <td>Action|Horror|Thriller</td>\n",
       "    </tr>\n",
       "  </tbody>\n",
       "</table>\n",
       "</div>"
      ],
      "text/plain": [
       "      movieId                        title                  genres\n",
       "17344   90963  \"Last Mountain, The (2011)\"             Documentary\n",
       "37687  153184                   Vergeef me      (no genres listed)\n",
       "46113  171781              Tank 432 (2015)  Action|Horror|Thriller"
      ]
     },
     "execution_count": 25,
     "metadata": {},
     "output_type": "execute_result"
    }
   ],
   "source": [
    "movies_pdf[movies_pdf.movieId.isin(['90963','171781','153184'])]"
   ]
  }
 ],
 "metadata": {
  "kernelspec": {
   "display_name": "Python 3",
   "language": "python",
   "name": "python3"
  },
  "language_info": {
   "codemirror_mode": {
    "name": "ipython",
    "version": 3
   },
   "file_extension": ".py",
   "mimetype": "text/x-python",
   "name": "python",
   "nbconvert_exporter": "python",
   "pygments_lexer": "ipython3",
   "version": "3.9.4"
  }
 },
 "nbformat": 4,
 "nbformat_minor": 5
}
